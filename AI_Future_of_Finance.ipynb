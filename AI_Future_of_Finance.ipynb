{
  "nbformat": 4,
  "nbformat_minor": 0,
  "metadata": {
    "colab": {
      "provenance": [],
      "authorship_tag": "ABX9TyNQGo31e0jne4mB0Y+04C5W",
      "include_colab_link": true
    },
    "kernelspec": {
      "name": "python3",
      "display_name": "Python 3"
    },
    "language_info": {
      "name": "python"
    }
  },
  "cells": [
    {
      "cell_type": "markdown",
      "metadata": {
        "id": "view-in-github",
        "colab_type": "text"
      },
      "source": [
        "<a href=\"https://colab.research.google.com/github/1prasadjr/PRODIGY_DS_01/blob/main/AI_Future_of_Finance.ipynb\" target=\"_parent\"><img src=\"https://colab.research.google.com/assets/colab-badge.svg\" alt=\"Open In Colab\"/></a>"
      ]
    },
    {
      "cell_type": "markdown",
      "source": [
        "# **Sentiment Analysis for Market Benchmarking**\n"
      ],
      "metadata": {
        "id": "r2_L-x6b6zVQ"
      }
    },
    {
      "cell_type": "code",
      "execution_count": 4,
      "metadata": {
        "colab": {
          "base_uri": "https://localhost:8080/"
        },
        "collapsed": true,
        "id": "QzZObLeD3QPH",
        "outputId": "fbfa8108-9ea5-4761-882e-72a8510c9ad9"
      },
      "outputs": [
        {
          "output_type": "stream",
          "name": "stderr",
          "text": [
            "No model was supplied, defaulted to distilbert/distilbert-base-uncased-finetuned-sst-2-english and revision 714eb0f (https://huggingface.co/distilbert/distilbert-base-uncased-finetuned-sst-2-english).\n",
            "Using a pipeline without specifying a model name and revision in production is not recommended.\n",
            "Device set to use cpu\n"
          ]
        },
        {
          "output_type": "stream",
          "name": "stdout",
          "text": [
            "Review: The cashback offers are fantastic!\n",
            "Sentiment: POSITIVE, Confidence: 1.00\n",
            "\n",
            "Review: The interest rate is too high compared to competitors.\n",
            "Sentiment: NEGATIVE, Confidence: 1.00\n",
            "\n",
            "Review: Great customer support but approval process takes too long.\n",
            "Sentiment: NEGATIVE, Confidence: 1.00\n",
            "\n"
          ]
        }
      ],
      "source": [
        "from transformers import pipeline\n",
        "sentiment_pipeline = pipeline(\"sentiment-analysis\")\n",
        "\n",
        "reviews = [\n",
        "    \"The cashback offers are fantastic!\",\n",
        "    \"The interest rate is too high compared to competitors.\",\n",
        "    \"Great customer support but approval process takes too long.\"\n",
        "]\n",
        "\n",
        "results = sentiment_pipeline(reviews)\n",
        "for review, result in zip(reviews, results):\n",
        "    print(f\"Review: {review}\\nSentiment: {result['label']}, Confidence: {result['score']:.2f}\\n\")\n"
      ]
    },
    {
      "cell_type": "markdown",
      "source": [
        "# **AI-Powered Credit Scoring**"
      ],
      "metadata": {
        "id": "tHGkkWbd_VVP"
      }
    },
    {
      "cell_type": "code",
      "source": [
        "from sklearn.ensemble import RandomForestClassifier\n",
        "from sklearn.model_selection import train_test_split\n",
        "from sklearn.metrics import accuracy_score\n",
        "import pandas as pd\n",
        "\n",
        "# Load sample credit scoring dataset\n",
        "data = pd.read_csv(\"credit_data.csv\")\n",
        "X = data.drop(columns=[\"default_risk\"])\n",
        "y = data[\"default_risk\"]\n",
        "\n",
        "# Split data into training and testing sets\n",
        "X_train, X_test, y_train, y_test = train_test_split(X, y, test_size=0.2, random_state=42)\n",
        "\n",
        "# Train AI model for credit scoring\n",
        "model = RandomForestClassifier(n_estimators=100, random_state=42)\n",
        "model.fit(X_train, y_train)\n",
        "\n",
        "# Evaluate model performance\n",
        "predictions = model.predict(X_test)\n",
        "print(\"Credit Scoring Model Accuracy:\", accuracy_score(y_test, predictions))\n",
        "\n"
      ],
      "metadata": {
        "id": "59TF_dN64mvZ"
      },
      "execution_count": null,
      "outputs": []
    },
    {
      "cell_type": "markdown",
      "source": [
        "# **AI-Based Fraud Detection**"
      ],
      "metadata": {
        "id": "3h6pLu2nC--t"
      }
    },
    {
      "cell_type": "code",
      "source": [
        "import numpy as np\n",
        "from sklearn.ensemble import IsolationForest\n",
        "\n",
        "# Simulated financial transactions dataset\n",
        "transactions = np.array([[500], [2000], [100], [300], [70000], [50], [4000], [600]])\n",
        "\n",
        "# Train AI fraud detection model\n",
        "model = IsolationForest(contamination=0.1, random_state=42)\n",
        "model.fit(transactions)\n",
        "\n",
        "# Predict fraudulent transactions\n",
        "fraud_predictions = model.predict(transactions)\n",
        "print(\"Fraud Detection Results:\", fraud_predictions)\n"
      ],
      "metadata": {
        "id": "2RRCAJw6DC-I"
      },
      "execution_count": null,
      "outputs": []
    },
    {
      "cell_type": "markdown",
      "source": [
        "# **AI-Powered Customer Personalization**"
      ],
      "metadata": {
        "id": "RA6U7wEZFqLY"
      }
    },
    {
      "cell_type": "code",
      "source": [
        "import pandas as pd\n",
        "\n",
        "# Simulated customer transaction history\n",
        "data = {'Customer': ['Alice', 'Bob', 'Charlie'],\n",
        "        'Transactions': [50, 500, 1000],\n",
        "        'Category': ['Groceries', 'Luxury', 'Investments']}\n",
        "\n",
        "df = pd.DataFrame(data)\n",
        "\n",
        "# AI-generated personalized recommendation\n",
        "df['AI_Recommendation'] = df['Category'].apply(lambda x:\n",
        "    'Cashback Card' if x == 'Groceries' else\n",
        "    'Premium Credit Card' if x == 'Luxury' else\n",
        "    'Investment Advisory Service')\n",
        "\n",
        "print(df)\n"
      ],
      "metadata": {
        "id": "bndFGfrsFskk"
      },
      "execution_count": null,
      "outputs": []
    }
  ]
}